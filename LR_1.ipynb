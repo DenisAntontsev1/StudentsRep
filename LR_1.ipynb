{
  "nbformat": 4,
  "nbformat_minor": 0,
  "metadata": {
    "colab": {
      "provenance": []
    },
    "kernelspec": {
      "name": "python3",
      "display_name": "Python 3"
    },
    "language_info": {
      "name": "python"
    }
  },
  "cells": [
    {
      "cell_type": "code",
      "source": [
        "import pandas as pd\n",
        "import numpy as np\n",
        "import matplotlib.pyplot as plt"
      ],
      "metadata": {
        "id": "8jp-cXnARTnP"
      },
      "execution_count": null,
      "outputs": []
    },
    {
      "cell_type": "code",
      "source": [
        "n = 2000\n",
        "days_late = np.random.randint(1, 365, size=n)\n",
        "amount_due = np.random.normal(loc=100, scale=20, size=n)"
      ],
      "metadata": {
        "id": "OnBe2si4RWsV"
      },
      "execution_count": null,
      "outputs": []
    },
    {
      "cell_type": "code",
      "source": [
        "data = {\n",
        "    'user_id': np.arange(1, n + 1),\n",
        "    'days_late': days_late,\n",
        "    'amount': amount_due,\n",
        "}\n",
        "df = pd.DataFrame(data)"
      ],
      "metadata": {
        "id": "Bbqp1XheReqs"
      },
      "execution_count": null,
      "outputs": []
    },
    {
      "cell_type": "code",
      "source": [
        "conditions = [\n",
        "    (df['days_late'] <= 30),\n",
        "    (df['days_late'] > 30) & (df['days_late'] <= 60),\n",
        "    (df['days_late'] > 60) & (df['days_late'] <= 90),\n",
        "    (df['days_late'] > 90) & (df['days_late'] <= 120),\n",
        "    (df['days_late'] > 120)\n",
        "]\n",
        "return_probabilities = [0.8, 0.6, 0.4, 0.3, 0.1]"
      ],
      "metadata": {
        "id": "8xeKvEs_Rhx1"
      },
      "execution_count": null,
      "outputs": []
    },
    {
      "cell_type": "code",
      "source": [
        "df['debt_returned'] = [\n",
        "    np.random.choice([0, 1], p=[1 - prob, prob]) for prob in np.select(conditions, return_probabilities)\n",
        "]"
      ],
      "metadata": {
        "id": "HuqBZqBMRlKg"
      },
      "execution_count": null,
      "outputs": []
    },
    {
      "cell_type": "code",
      "source": [
        "print(\"Статистика возврата долга:\")\n",
        "print(df['debt_returned'].value_counts())\n",
        "print(df['debt_returned'].value_counts(normalize=True))"
      ],
      "metadata": {
        "id": "4GS-DViZRoJe"
      },
      "execution_count": null,
      "outputs": []
    },
    {
      "cell_type": "code",
      "source": [
        "group_labels = ['1-30', '31-60', '61-90', '91-120', '>120']\n",
        "df['days_group'] = np.select(conditions, group_labels)\n",
        "\n",
        "# Группировка и нормализация данных\n",
        "grouped = df.groupby('days_group')['debt_returned'].value_counts(normalize=True).unstack(fill_value=0)\n",
        "grouped.columns = ['No', 'Yes']\n",
        "\n",
        "print(\"nСгруппированные данные:\")\n",
        "print(grouped)"
      ],
      "metadata": {
        "id": "w0EmfDjVRsWg"
      },
      "execution_count": null,
      "outputs": []
    },
    {
      "cell_type": "code",
      "source": [
        "plt.figure(figsize=(10, 6))\n",
        "grouped.plot(kind='bar', stacked=True, color=['red', 'blue'], width=0.7)\n",
        "plt.title('Доля возврата долга по группам')\n",
        "plt.xlabel('Группы по дням просрочки')\n",
        "plt.ylabel('Доля')\n",
        "plt.ylim(0, 1)\n",
        "plt.legend(title='Возврат долга:')\n",
        "plt.xticks(rotation=0)\n",
        "plt.tight_layout()\n",
        "plt.show()"
      ],
      "metadata": {
        "id": "gQ2LoqlFRvGo"
      },
      "execution_count": null,
      "outputs": []
    }
  ]
}